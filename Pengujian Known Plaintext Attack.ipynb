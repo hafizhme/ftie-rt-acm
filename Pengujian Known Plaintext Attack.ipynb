{
 "cells": [
  {
   "cell_type": "markdown",
   "metadata": {},
   "source": [
    "# Tools"
   ]
  },
  {
   "cell_type": "code",
   "execution_count": null,
   "metadata": {},
   "outputs": [],
   "source": [
    "from app import Application\n",
    "from array import array\n",
    "from blocks import transform\n",
    "from blocks.bbs import BBS\n",
    "from blocks.acm import ACM\n",
    "from blocks.rt import RT\n",
    "from errors import ValidationError\n",
    "from PIL import Image\n",
    "from suplementary import number_theory as nt\n",
    "from time import time\n",
    "\n",
    "import numpy as np\n",
    "import math as mt\n",
    "import pandas as pd\n",
    "import sys\n",
    "\n",
    "\n",
    "primes = array('I')\n",
    "a = open('primes/100000.txt', 'r')\n",
    "lines = a.readlines()\n",
    "for line in lines[5:]:\n",
    "    for p in line[:-2].split():\n",
    "        p = int(p)\n",
    "        if p % 4 == 3 and p < 65536:\n",
    "            primes.append(int(p))\n",
    "\n",
    "\n",
    "def generate_s(m):\n",
    "    while True:\n",
    "        ret = np.random.randint(2, m, dtype=np.int64)\n",
    "        if mt.gcd(ret, m) == 1:\n",
    "            return ret\n",
    "\n",
    "\n",
    "def next_s(current, m):\n",
    "    for lanjut in range(current + 1, m):\n",
    "        if mt.gcd(lanjut, m) == 1:\n",
    "            return lanjut\n",
    "    return m\n",
    "\n",
    "\n",
    "def attack(plainfile, cipherimage, a, b, n):\n",
    "    start = time()\n",
    "\n",
    "    # ENCRYPT\n",
    "    ## TRANSFORMATION\n",
    "    plainbytes = transform.buffer_to_bytes(plainfile)\n",
    "    plainbytes = transform.pad_bytes(plainbytes)\n",
    "\n",
    "    # DECRYPT\n",
    "    ## TRANSFORMATION\n",
    "    ciphermatrix = transform.image_to_matrix(cipherimage)\n",
    "\n",
    "    ## ARNOLD'S CAT MAP\n",
    "    plainmatrix = ACM(a, b, n).decrypt(ciphermatrix)\n",
    "\n",
    "    ## TRANSFORMATION\n",
    "    cipherbytes = transform.matrix_to_bytes(plainmatrix)\n",
    "\n",
    "\n",
    "    # SEARCHING FOR p, q, and s\n",
    "    i = 0\n",
    "    found = False\n",
    "    while i < len(primes) - 1 and not found:\n",
    "        p_g = primes[i]\n",
    "        j = i + 1\n",
    "        while j < len(primes) and not found:\n",
    "            q_g = primes[j]\n",
    "            m_g = p_g * q_g\n",
    "            s_g = next_s(1, m_g)\n",
    "            while s_g < m_g and not found:\n",
    "                bbs = BBS(p_g, q_g, s_g)\n",
    "                matched = True\n",
    "                i_p = 0\n",
    "                while i_p < plainbytes.size and matched:\n",
    "                    key = bbs.next()\n",
    "                    plainbytes_guess = nt.mod_add(\n",
    "                        cipherbytes[2 * i_p] - cipherbytes[2 * i_p + 1],\n",
    "                        key,\n",
    "                        256\n",
    "                    )\n",
    "                    if plainbytes_guess != plainbytes[i_p]:\n",
    "                        matched = False\n",
    "                    i_p += 1\n",
    "                if matched:\n",
    "                    found = True\n",
    "                else:\n",
    "                    s_g = next_s(s_g, m_g)\n",
    "            j += 1\n",
    "        i += 1\n",
    "\n",
    "    waktu = time() - start\n",
    "    plainfile_f = Application(p_g, q_g, s_g, a, b, n).decrypt(cipherimage)\n",
    "    if plainfile == plainfile_f:\n",
    "        return waktu, (p_g, q_g, s_g)\n",
    "    else:\n",
    "        return None, (None, None, None)"
   ]
  },
  {
   "cell_type": "markdown",
   "metadata": {},
   "source": [
    "# Performance Testing"
   ]
  },
  {
   "cell_type": "code",
   "execution_count": null,
   "metadata": {},
   "outputs": [],
   "source": [
    "dt = []\n",
    "\n",
    "a = 1\n",
    "b = 1\n",
    "n = 42\n",
    "B = 321000\n",
    "\n",
    "for i in np.linspace(1, len(primes)-1, 30):\n",
    "    i = mt.ceil(i)\n",
    "    p = primes[0]\n",
    "    q = primes[1]\n",
    "    s = generate_s(p * q)\n",
    "    \n",
    "    print(p, q, s)\n",
    "\n",
    "    plainfile = (170).to_bytes(1, 'little') * B\n",
    "    cipherimage = Application(p, q, s, a, b, n).encrypt(plainfile)\n",
    "    waktu, key = attack(plainfile, cipherimage, a, b, n)\n",
    "    \n",
    "    dt.append([waktu, p, q, s] + list(key))\n",
    "\n",
    "df = pd.DataFrame(dt)\n",
    "df.to_csv(\"kpa.csv\", index=False)\n",
    "print('Done')"
   ]
  },
  {
   "cell_type": "markdown",
   "metadata": {},
   "source": [
    "## SET UP"
   ]
  },
  {
   "cell_type": "code",
   "execution_count": null,
   "metadata": {},
   "outputs": [],
   "source": [
    "# len(primes) = 3284\n",
    "\n",
    "# UNKOWN\n",
    "p = primes[0]\n",
    "q = primes[1]\n",
    "s = generate_s(p * q)\n",
    "print('These value are secret:\\n\\tp={0},\\n\\tq={1},\\n\\ts={2}'.format(p, q, s))\n",
    "\n",
    "# KNOWN\n",
    "a = 1\n",
    "b = 1\n",
    "n = 42\n",
    "B = 100\n",
    "print('These value are no more a secret:\\n\\ta={0},\\n\\tb={1},\\n\\tn={2},\\n\\tB={3}'.format(a, b, n, B))"
   ]
  },
  {
   "cell_type": "markdown",
   "metadata": {},
   "source": [
    "# Construct `plainfile` and `cipherimage`"
   ]
  },
  {
   "cell_type": "code",
   "execution_count": null,
   "metadata": {},
   "outputs": [],
   "source": [
    "plainfile = np.random.randint(0, 256, B, 'B').tobytes()\n",
    "cipherimage = Application(p, q, s, a, b, n).encrypt(plainfile)"
   ]
  },
  {
   "cell_type": "markdown",
   "metadata": {},
   "source": [
    "## Attack"
   ]
  },
  {
   "cell_type": "code",
   "execution_count": null,
   "metadata": {},
   "outputs": [],
   "source": [
    "attack(plainfile, cipherimage, a, b, n)"
   ]
  }
 ],
 "metadata": {
  "celltoolbar": "Raw Cell Format",
  "kernelspec": {
   "display_name": "Python (ftie)",
   "language": "python",
   "name": "venv"
  },
  "language_info": {
   "codemirror_mode": {
    "name": "ipython",
    "version": 3
   },
   "file_extension": ".py",
   "mimetype": "text/x-python",
   "name": "python",
   "nbconvert_exporter": "python",
   "pygments_lexer": "ipython3",
   "version": "3.5.2"
  }
 },
 "nbformat": 4,
 "nbformat_minor": 2
}
