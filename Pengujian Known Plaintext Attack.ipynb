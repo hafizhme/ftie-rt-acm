{
 "cells": [
  {
   "cell_type": "markdown",
   "metadata": {},
   "source": [
    "# Tools"
   ]
  },
  {
   "cell_type": "code",
   "execution_count": null,
   "metadata": {},
   "outputs": [],
   "source": [
    "from app import Application\n",
    "from array import array\n",
    "from blocks import transform\n",
    "from blocks.bbs import BBS\n",
    "from blocks.acm import ACM\n",
    "from blocks.rt import RT\n",
    "from errors import ValidationError\n",
    "from math import gcd\n",
    "from PIL import Image\n",
    "from suplementary import number_theory as nt\n",
    "from time import time\n",
    "\n",
    "import numpy as np\n",
    "import sys\n",
    "\n",
    "\n",
    "primes = array('I')\n",
    "a = open('primes/100000.txt', 'r')\n",
    "lines = a.readlines()\n",
    "for line in lines[5:]:\n",
    "    for p in line[:-2].split():\n",
    "        p = int(p)\n",
    "        if p % 4 == 3 and p < 65536:\n",
    "            primes.append(int(p))\n",
    "\n",
    "def pick_random_seed(m):\n",
    "    while True:\n",
    "        ret = np.random.randint(1, m)\n",
    "        if gcd(ret, m) == 1:\n",
    "            return ret"
   ]
  },
  {
   "cell_type": "markdown",
   "metadata": {},
   "source": [
    "## SET UP"
   ]
  },
  {
   "cell_type": "code",
   "execution_count": null,
   "metadata": {},
   "outputs": [],
   "source": [
    "# UNKOWN\n",
    "p = primes[-1]\n",
    "q = primes[-2]\n",
    "s = pick_random_seed(p * q)\n",
    "print('These value are secret:\\n\\tp={0},\\n\\tq={1},\\n\\ts={2}'.format(p, q, s))\n",
    "\n",
    "# KNOWN\n",
    "a = 1\n",
    "b = 1\n",
    "n = 42\n",
    "B = 100\n",
    "print('These value are no more a secret:\\n\\ta={0},\\n\\tb={1},\\n\\tn={2},\\n\\tB={3}'.format(a, b, n, B))"
   ]
  },
  {
   "cell_type": "markdown",
   "metadata": {},
   "source": [
    "# Construct `plainfile` and `cipherimage`"
   ]
  },
  {
   "cell_type": "code",
   "execution_count": null,
   "metadata": {},
   "outputs": [],
   "source": [
    "plainfile = np.random.randint(0, 255, B, 'B').tobytes()\n",
    "cipherimage = Application(p, q, s, a, b, n).encrypt(plainfile)"
   ]
  },
  {
   "cell_type": "markdown",
   "metadata": {},
   "source": [
    "## Attack"
   ]
  },
  {
   "cell_type": "code",
   "execution_count": null,
   "metadata": {},
   "outputs": [],
   "source": [
    "start = time()\n",
    "# ENCRYPT\n",
    "## TRANSFORMATION\n",
    "plainbytes = transform.encryption_formatting(plainfile)\n",
    "plainbytes = transform.pad_bytes(plainbytes)\n",
    "\n",
    "# DECRYPT\n",
    "## ARNOLD'S CAT MAP\n",
    "plainimage = ACM(a, b, n).decrypt(cipherimage)\n",
    "\n",
    "## TRANSFORMATION\n",
    "ciphermatrix = transform.image_to_matrix(plainimage)\n",
    "cipherbytes = transform.matrix_to_bytes(ciphermatrix)\n",
    "\n",
    "# GET KEYSTREAM\n",
    "keystream = np.zeros(plainbytes.size, np.dtype('B'))\n",
    "i = 0\n",
    "while i < len(plainbytes):\n",
    "    keystream[i] = plainbytes[i] - cipherbytes[2 * i] + cipherbytes[2 * i + 1]\n",
    "    i += 1\n",
    "\n",
    "# SEARCHING FOR p, q, and s\n",
    "i = 0\n",
    "found = False\n",
    "while i < len(primes) - 1 and not found:\n",
    "    p_a = primes[i]\n",
    "    j = i + 1\n",
    "    while j < len(primes) and not found:\n",
    "        q_a = primes[j]\n",
    "        s_s = keystream[0]\n",
    "        try:\n",
    "            bbs = BBS(p_a, q_a, s_s)\n",
    "            matched = True\n",
    "            k = 1\n",
    "            while k < keystream.size and matched:\n",
    "                K = bbs.next()\n",
    "                if keystream[k] != K:\n",
    "                    matched = False\n",
    "                else:\n",
    "                    k += 1\n",
    "            if k == keystream.size:\n",
    "                found = True\n",
    "        except ValidationError:\n",
    "            j += 1\n",
    "        j += 1\n",
    "    i += 1\n",
    "\n",
    "s_a = 0\n",
    "m_a = p_a * q_a\n",
    "found = False\n",
    "while s_a < m_a and not found:\n",
    "    if nt.mod_pow(s_a, 2, m_a) == s_s:\n",
    "        found = True\n",
    "    else:\n",
    "        s_a += 1\n",
    "\n",
    "print('Time required: {0}'.format(time() - start))\n",
    "plainfile_f = Application(p_a, q_a, s_a, a, b, n).decrypt(cipherimage)\n",
    "if plainfile == plainfile_f:\n",
    "    print('We got the key')\n",
    "    print(p_a, q_a, s_a)\n",
    "else:\n",
    "    print('Gone wrong')"
   ]
  }
 ],
 "metadata": {
  "celltoolbar": "Raw Cell Format",
  "kernelspec": {
   "display_name": "Python (ftie)",
   "language": "python",
   "name": "venv"
  },
  "language_info": {
   "codemirror_mode": {
    "name": "ipython",
    "version": 3
   },
   "file_extension": ".py",
   "mimetype": "text/x-python",
   "name": "python",
   "nbconvert_exporter": "python",
   "pygments_lexer": "ipython3",
   "version": "3.5.2"
  }
 },
 "nbformat": 4,
 "nbformat_minor": 2
}
