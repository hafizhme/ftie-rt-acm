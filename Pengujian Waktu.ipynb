{
 "cells": [
  {
   "cell_type": "markdown",
   "metadata": {},
   "source": [
    "## Tools"
   ]
  },
  {
   "cell_type": "markdown",
   "metadata": {},
   "source": [
    "Please skip this code and go to [Set Up](#Set-Up)."
   ]
  },
  {
   "cell_type": "code",
   "execution_count": null,
   "metadata": {},
   "outputs": [],
   "source": [
    "from array import array\n",
    "from app import Application\n",
    "from blocks import transform, acm, rt, bbs\n",
    "from time import time\n",
    "\n",
    "import math as mt\n",
    "import numpy as np\n",
    "import pandas as pd\n",
    "import os\n",
    "\n",
    "\n",
    "def time_it(fungsi, masukan):\n",
    "    checkpoint = time()\n",
    "    \n",
    "    keluaran = fungsi(masukan)\n",
    "    \n",
    "    waktu = time() - checkpoint\n",
    "    return waktu, keluaran\n",
    "\n",
    "\n",
    "# PUT THIS IF YOU WORKING WITH PRIMES\n",
    "primes = array('I')\n",
    "\n",
    "a = open('primes/100000.txt', 'r')\n",
    "lines = a.readlines()\n",
    "\n",
    "for line in lines[5:]:\n",
    "    for prime in line[:-2].split():\n",
    "        prime = int(prime)\n",
    "        if prime % 4 == 3 and prime < 65536:\n",
    "            primes.append(int(prime))\n",
    "# END HERE\n",
    "\n",
    "def generate_s(p, q):\n",
    "    m = p * q\n",
    "    s = np.random.randint(2, m, dtype=np.int64)\n",
    "    while mt.gcd(s, m) != 1:\n",
    "        s = np.random.randint(1, m)\n",
    "    return s"
   ]
  },
  {
   "cell_type": "markdown",
   "metadata": {},
   "source": [
    "# Set Up"
   ]
  },
  {
   "cell_type": "markdown",
   "metadata": {},
   "source": [
    "Please define following constant and run the block [Run](#Run)"
   ]
  },
  {
   "cell_type": "markdown",
   "metadata": {},
   "source": [
    "### Input File"
   ]
  },
  {
   "cell_type": "markdown",
   "metadata": {},
   "source": [
    "- The average `B = 321000` is [the average size of an office document](https://blogs.technet.microsoft.com/dangl/2012/10/18/what-is-the-average-size-of-an-office-document/).\n",
    "- The maximum value of parameter `a` and `b` for `B = 3210001` is `463` considering the requirement for `a` and `b` are both positive integers and `a <= N` and `b <= N`, `N` is the maps dimension. The number 463 comes from our investigation using formula `N = ceil(sqrt(ceil((B * 2) / 3)))`.\n",
    "- The number `30211`, `627073506`\n",
    "- The maximum value of parameter `n` is setted to `300`. This is to limit our computing performance.\n",
    "- We had found a dataset of two bytes prime number. From that data, we had done some filter to compromise our prime are `3 (mod 4)`. And the maximum prime number we got is `65519`, the  minimum is `3`, and the number of our primes is `3284` numbers."
   ]
  },
  {
   "cell_type": "code",
   "execution_count": null,
   "metadata": {},
   "outputs": [],
   "source": [
    "#DATA TEST is B, p, q, s, a, b, n\n",
    "\n",
    "DATA_TEST = []\n",
    "# ACM DISCRETE over n\n",
    "for n in np.linspace(10, 300, 30):\n",
    "    data = [321000, 30203, 30211, 627073506, 1, 1, mt.ceil(n)]\n",
    "    DATA_TEST.append(data)\n",
    "        \n",
    "# ACM GENERAL EQUAL over n\n",
    "for n in np.linspace(10, 300, 30):\n",
    "    # b = a = 463 // 2\n",
    "    data = [321000, 30203, 30211, 627073506, 231, 231, mt.ceil(n)]\n",
    "    DATA_TEST.append(data)\n",
    "        \n",
    "# ACM GENERAL ANY over n\n",
    "for n in np.linspace(10, 300, 30):\n",
    "    # a and b are a couple of true random number (set by user) on [1, 463]\n",
    "    data = [321000, 30203, 30211, 627073506, 231, 132, mt.ceil(n)]\n",
    "    DATA_TEST.append(data)\n",
    "    \n",
    "# ACM GENERAL EQUAL over a\n",
    "for a in np.linspace(30203, 463, 30):\n",
    "    a = mt.ceil(a)\n",
    "    data = [321000, 30203, 30211, 627073506, a, a, 10]\n",
    "    DATA_TEST.append(data)\n",
    "    \n",
    "# RT over p and q using random s\n",
    "for i in np.linspace(1, len(primes)-1, 30):\n",
    "    i = mt.ceil(i)\n",
    "    p = primes[i]\n",
    "    q = primes[i - 1]\n",
    "    s = generate_s(p, q)\n",
    "    data = [321000, p, q, s, 1, 1, 10]\n",
    "    DATA_TEST.append(data)\n",
    "    \n",
    "# RT over p and q using random s\n",
    "for i in np.linspace(1, len(primes)-1, 30):\n",
    "    i = mt.ceil(i)\n",
    "    # This experiment is to show the correlation between the value of `m` and time required.\n",
    "    # Since we are not allowed to use mutual `p` and `q`, hence we are using neighborhood `p` and `q`\n",
    "    # to demonstrate inclining `m = p * q`.\n",
    "    p = primes[i]\n",
    "    q = primes[i - 1]\n",
    "    s = generate_s(p, q)\n",
    "    data = [321000, p, q, s, 231, 132, 150]\n",
    "    DATA_TEST.append(data)\n",
    "\n",
    "# over B\n",
    "# we have data of common office size, our B data should refer to that\n",
    "for B in np.linspace(0, 1000000, 31):\n",
    "    if B == 0:\n",
    "        continue\n",
    "    B = mt.ceil(B)\n",
    "    data = [B, 30203, 30211, 627073506, 231, 132, 150]\n",
    "    DATA_TEST.append(data)\n",
    "    "
   ]
  },
  {
   "cell_type": "code",
   "execution_count": null,
   "metadata": {},
   "outputs": [],
   "source": [
    "enc = []\n",
    "dec = []\n",
    "# for TEST in [[321000, 30203, 30211, 627073506, 1, 1, 2], ]:\n",
    "for TEST in DATA_TEST:\n",
    "    print(TEST)\n",
    "    plainfile = (170).to_bytes(1, 'little') * TEST[0]\n",
    "    \n",
    "    key = TEST[1:]\n",
    "    \n",
    "    print('is encrypting . . .')\n",
    "    acm = Application(key[0], key[1], key[2], key[3],key[4], key[5])\n",
    "    data_encrypt, cipherimage = time_it(acm.encrypt, plainfile)\n",
    "\n",
    "    print('is decrypting . . .')\n",
    "    acm = Application(key[0], key[1], key[2], key[3],key[4], key[5])\n",
    "    data_decrypt, plainfile = time_it(acm.decrypt, cipherimage)\n",
    "    \n",
    "    enc.append(data_encrypt)\n",
    "    dec.append(data_decrypt)\n",
    "\n",
    "df_enc = pd.DataFrame(enc)\n",
    "df_dec = pd.DataFrame(dec)\n",
    "df_dtt = pd.DataFrame(DATA_TEST)\n",
    "\n",
    "df_enc.to_csv(\"time_enc.csv\", index=False)\n",
    "df_dec.to_csv(\"time_dec.csv\", index=False)\n",
    "df_dtt.to_csv(\"time_dtt.csv\", index=False)\n",
    "print('Done')"
   ]
  }
 ],
 "metadata": {
  "kernelspec": {
   "display_name": "Python (ftie)",
   "language": "python",
   "name": "venv"
  },
  "language_info": {
   "codemirror_mode": {
    "name": "ipython",
    "version": 3
   },
   "file_extension": ".py",
   "mimetype": "text/x-python",
   "name": "python",
   "nbconvert_exporter": "python",
   "pygments_lexer": "ipython3",
   "version": "3.5.2"
  }
 },
 "nbformat": 4,
 "nbformat_minor": 2
}
