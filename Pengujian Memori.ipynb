{
 "cells": [
  {
   "cell_type": "markdown",
   "metadata": {},
   "source": [
    "## Tools "
   ]
  },
  {
   "cell_type": "markdown",
   "metadata": {},
   "source": [
    "Please skip this code and go to [Set Up](#Set-Up)."
   ]
  },
  {
   "cell_type": "code",
   "execution_count": null,
   "metadata": {},
   "outputs": [],
   "source": [
    "from array import array\n",
    "from app import Application\n",
    "from memory_profiler import memory_usage\n",
    "from PIL import Image\n",
    "\n",
    "import math as mt\n",
    "import numpy as np\n",
    "import pandas as pd\n",
    "import os\n",
    "\n",
    "\n",
    "# PUT THIS IF YOU WORKING WITH PRIMES\n",
    "primes = array('I')\n",
    "\n",
    "a = open('primes/100000.txt', 'r')\n",
    "lines = a.readlines()\n",
    "\n",
    "for line in lines[5:]:\n",
    "    for prime in line[:-2].split():\n",
    "        prime = int(prime)\n",
    "        if prime % 4 == 3 and prime < 65536:\n",
    "            primes.append(int(prime))\n",
    "# END HERE\n",
    "\n",
    "def generate_s(p, q):\n",
    "    m = p * q\n",
    "    s = np.random.randint(2, m, dtype=np.int64)\n",
    "    while mt.gcd(s, m) != 1:\n",
    "        s = np.random.randint(2, m, dtype=np.int64)\n",
    "    return s"
   ]
  },
  {
   "cell_type": "markdown",
   "metadata": {},
   "source": [
    "# Set Up "
   ]
  },
  {
   "cell_type": "markdown",
   "metadata": {},
   "source": [
    "Please define following constant and run the block [Run](#Run)"
   ]
  },
  {
   "cell_type": "code",
   "execution_count": null,
   "metadata": {},
   "outputs": [],
   "source": [
    "#DATA TEST is B, p, q, s, a, b, n\n",
    "\n",
    "DATA_TEST = []\n",
    "# ACM DISCRETE over n\n",
    "for n in np.linspace(10, 300, 30):\n",
    "    data = [321000, 30203, 30211, 627073506, 1, 1, mt.ceil(n)]\n",
    "    DATA_TEST.append(data)\n",
    "        \n",
    "# ACM GENERAL EQUAL over n\n",
    "for n in np.linspace(10, 300, 30):\n",
    "    # b = a = 463 // 2\n",
    "    data = [321000, 30203, 30211, 627073506, 231, 231, mt.ceil(n)]\n",
    "    DATA_TEST.append(data)\n",
    "        \n",
    "# ACM GENERAL ANY over n\n",
    "for n in np.linspace(10, 300, 30):\n",
    "    # a and b are a couple of true random number (set by user) on [1, 463]\n",
    "    data = [321000, 30203, 30211, 627073506, 231, 132, mt.ceil(n)]\n",
    "    DATA_TEST.append(data)\n",
    "    \n",
    "# ACM GENERAL EQUAL over a\n",
    "for a in np.linspace(30203, 463, 30):\n",
    "    a = mt.ceil(a)\n",
    "    data = [321000, 30203, 30211, 627073506, a, a, 10]\n",
    "    DATA_TEST.append(data)\n",
    "    \n",
    "# RT over p and q using random s\n",
    "for i in np.linspace(1, len(primes)-1, 30):\n",
    "    i = mt.ceil(i)\n",
    "    p = primes[i]\n",
    "    q = primes[i - 1]\n",
    "    s = generate_s(p, q)\n",
    "    data = [321000, p, q, s, 1, 1, 10]\n",
    "    DATA_TEST.append(data)\n",
    "    \n",
    "# RT over p and q using random s\n",
    "for i in np.linspace(1, len(primes)-1, 30):\n",
    "    i = mt.ceil(i)\n",
    "    # This experiment is to show the correlation between the value of `m` and maximum memory used.\n",
    "    # Since we are not allowed to use mutual `p` and `q`, hence we are using neighborhood `p` and `q`\n",
    "    # to demonstrate inclining `m = p * q`.\n",
    "    p = primes[i]\n",
    "    q = primes[i - 1]\n",
    "    s = generate_s(p, q)\n",
    "    data = [321000, p, q, s, 231, 132, 150]\n",
    "    DATA_TEST.append(data)\n",
    "\n",
    "# over B\n",
    "# we have data of common office size, our B data should refer to that\n",
    "for B in np.linspace(0, 1000000, 31):\n",
    "    if B == 0:\n",
    "        continue\n",
    "    B = mt.ceil(B)\n",
    "    data = [B, 30203, 30211, 627073506, 231, 132, 150]\n",
    "    DATA_TEST.append(data)\n",
    "    "
   ]
  },
  {
   "cell_type": "code",
   "execution_count": null,
   "metadata": {},
   "outputs": [],
   "source": [
    "enc = []\n",
    "dec = []\n",
    "# for TEST in [[321000, 30203, 30211, 627073506, 1, 1, 2], ]:\n",
    "for TEST in DATA_TEST:\n",
    "    print(TEST)\n",
    "    \n",
    "    print('is encrypting . . .')\n",
    "    app = Application(TEST[1], TEST[2], TEST[3], TEST[4], TEST[5], TEST[6])\n",
    "    plainfile = (170).to_bytes(1, 'little') * TEST[0]\n",
    "    mem_enc = memory_usage((app.encrypt, (plainfile,), ))\n",
    "\n",
    "    print('is decrypting . . .')\n",
    "    app = Application(TEST[1], TEST[2], TEST[3], TEST[4], TEST[5], TEST[6])\n",
    "    maps_dimension = mt.ceil(mt.sqrt(mt.ceil(TEST[0] * 2 / 3)))\n",
    "    if maps_dimension % 2 == 1: maps_dimension += 1\n",
    "    cipherimage = Image.fromarray(np.zeros((maps_dimension ** 2) * 3, np.dtype('B')).reshape(maps_dimension, maps_dimension, 3))\n",
    "    mem_dec = memory_usage((app.decrypt, (cipherimage,), ))\n",
    "    \n",
    "    enc.append(max(mem_enc))\n",
    "    dec.append(max(mem_dec))\n",
    "\n",
    "df_enc = pd.DataFrame(enc)\n",
    "df_dec = pd.DataFrame(dec)\n",
    "df_dtt = pd.DataFrame(DATA_TEST)\n",
    "\n",
    "df_enc.to_csv(\"mem_enc.csv\", index=False)\n",
    "df_dec.to_csv(\"mem_dec.csv\", index=False)\n",
    "df_dtt.to_csv(\"mem_dtt.csv\", index=False)\n",
    "print('Done')"
   ]
  }
 ],
 "metadata": {
  "kernelspec": {
   "display_name": "Python (ftie)",
   "language": "python",
   "name": "venv"
  },
  "language_info": {
   "codemirror_mode": {
    "name": "ipython",
    "version": 3
   },
   "file_extension": ".py",
   "mimetype": "text/x-python",
   "name": "python",
   "nbconvert_exporter": "python",
   "pygments_lexer": "ipython3",
   "version": "3.5.2"
  }
 },
 "nbformat": 4,
 "nbformat_minor": 2
}
